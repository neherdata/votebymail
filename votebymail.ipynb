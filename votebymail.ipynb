{
 "cells": [
  {
   "cell_type": "code",
   "execution_count": 1,
   "id": "cd01c2e0-f61d-4d30-8121-6c05ec567fe7",
   "metadata": {},
   "outputs": [],
   "source": [
    "import pandas as pd\n",
    "import plotly as pt\n",
    "import plotly.express as px"
   ]
  },
  {
   "cell_type": "code",
   "execution_count": 2,
   "id": "74f41eca-281e-46e5-91a9-99cb5b71fe92",
   "metadata": {},
   "outputs": [],
   "source": [
    "df = pd.read_csv('monmouth/votebymail-monmouth.csv', dtype='str')"
   ]
  },
  {
   "cell_type": "code",
   "execution_count": 3,
   "id": "3e68862d-704b-4b57-a58c-83450ac37e22",
   "metadata": {},
   "outputs": [
    {
     "data": {
      "text/html": [
       "<div>\n",
       "<style scoped>\n",
       "    .dataframe tbody tr th:only-of-type {\n",
       "        vertical-align: middle;\n",
       "    }\n",
       "\n",
       "    .dataframe tbody tr th {\n",
       "        vertical-align: top;\n",
       "    }\n",
       "\n",
       "    .dataframe thead th {\n",
       "        text-align: right;\n",
       "    }\n",
       "</style>\n",
       "<table border=\"1\" class=\"dataframe\">\n",
       "  <thead>\n",
       "    <tr style=\"text-align: right;\">\n",
       "      <th></th>\n",
       "      <th>voter_id</th>\n",
       "      <th>last_name</th>\n",
       "      <th>first_name</th>\n",
       "      <th>middle_name</th>\n",
       "      <th>suffix</th>\n",
       "      <th>party</th>\n",
       "      <th>ballot_req_type</th>\n",
       "      <th>street_no</th>\n",
       "      <th>street_name</th>\n",
       "      <th>apt_unit</th>\n",
       "      <th>...</th>\n",
       "      <th>ballot_req_rcvd_date</th>\n",
       "      <th>ballot_received_date</th>\n",
       "      <th>ballot_mailed_date</th>\n",
       "      <th>ballot_counted_status</th>\n",
       "      <th>election</th>\n",
       "      <th>municipality</th>\n",
       "      <th>ward</th>\n",
       "      <th>district</th>\n",
       "      <th>congressional_dist</th>\n",
       "      <th>legislative_dist</th>\n",
       "    </tr>\n",
       "  </thead>\n",
       "  <tbody>\n",
       "    <tr>\n",
       "      <th>0</th>\n",
       "      <td>E2032252165</td>\n",
       "      <td>ADJMI</td>\n",
       "      <td>FRIEDA</td>\n",
       "      <td>OLLINS</td>\n",
       "      <td>NaN</td>\n",
       "      <td>REP</td>\n",
       "      <td>SNG</td>\n",
       "      <td>120</td>\n",
       "      <td>Spier Ave</td>\n",
       "      <td>NaN</td>\n",
       "      <td>...</td>\n",
       "      <td>2023-09-20</td>\n",
       "      <td>NaN</td>\n",
       "      <td>2023-09-26</td>\n",
       "      <td>NaN</td>\n",
       "      <td>2023-11-07</td>\n",
       "      <td>Allenhurst Borough</td>\n",
       "      <td>0</td>\n",
       "      <td>1</td>\n",
       "      <td>6</td>\n",
       "      <td>11</td>\n",
       "    </tr>\n",
       "    <tr>\n",
       "      <th>1</th>\n",
       "      <td>P2605352426</td>\n",
       "      <td>ANTEBI</td>\n",
       "      <td>ISAAC</td>\n",
       "      <td>NaN</td>\n",
       "      <td>NaN</td>\n",
       "      <td>REP</td>\n",
       "      <td>AFE</td>\n",
       "      <td>102</td>\n",
       "      <td>LAKE DR</td>\n",
       "      <td>NaN</td>\n",
       "      <td>...</td>\n",
       "      <td>2020-05-13</td>\n",
       "      <td>NaN</td>\n",
       "      <td>2023-09-26</td>\n",
       "      <td>NaN</td>\n",
       "      <td>2023-11-07</td>\n",
       "      <td>Allenhurst Borough</td>\n",
       "      <td>0</td>\n",
       "      <td>1</td>\n",
       "      <td>6</td>\n",
       "      <td>11</td>\n",
       "    </tr>\n",
       "    <tr>\n",
       "      <th>2</th>\n",
       "      <td>H4978752243</td>\n",
       "      <td>BEEGLE</td>\n",
       "      <td>DAVID</td>\n",
       "      <td>NaN</td>\n",
       "      <td>NaN</td>\n",
       "      <td>REP</td>\n",
       "      <td>AFE</td>\n",
       "      <td>212</td>\n",
       "      <td>Cedar Ave</td>\n",
       "      <td>NaN</td>\n",
       "      <td>...</td>\n",
       "      <td>2019-12-22</td>\n",
       "      <td>NaN</td>\n",
       "      <td>2023-09-26</td>\n",
       "      <td>NaN</td>\n",
       "      <td>2023-11-07</td>\n",
       "      <td>Allenhurst Borough</td>\n",
       "      <td>0</td>\n",
       "      <td>1</td>\n",
       "      <td>6</td>\n",
       "      <td>11</td>\n",
       "    </tr>\n",
       "    <tr>\n",
       "      <th>3</th>\n",
       "      <td>I0943252252</td>\n",
       "      <td>BRIODY</td>\n",
       "      <td>MICHAEL</td>\n",
       "      <td>J</td>\n",
       "      <td>NaN</td>\n",
       "      <td>UNA</td>\n",
       "      <td>AFE</td>\n",
       "      <td>311</td>\n",
       "      <td>Hume St</td>\n",
       "      <td># 3</td>\n",
       "      <td>...</td>\n",
       "      <td>2019-12-22</td>\n",
       "      <td>NaN</td>\n",
       "      <td>2023-09-26</td>\n",
       "      <td>NaN</td>\n",
       "      <td>2023-11-07</td>\n",
       "      <td>Allenhurst Borough</td>\n",
       "      <td>0</td>\n",
       "      <td>1</td>\n",
       "      <td>6</td>\n",
       "      <td>11</td>\n",
       "    </tr>\n",
       "    <tr>\n",
       "      <th>4</th>\n",
       "      <td>F6121852202</td>\n",
       "      <td>CAPIK</td>\n",
       "      <td>WILLIAM</td>\n",
       "      <td>L</td>\n",
       "      <td>NaN</td>\n",
       "      <td>DEM</td>\n",
       "      <td>AFE</td>\n",
       "      <td>307</td>\n",
       "      <td>HUME ST</td>\n",
       "      <td>NaN</td>\n",
       "      <td>...</td>\n",
       "      <td>2021-09-09</td>\n",
       "      <td>NaN</td>\n",
       "      <td>2023-09-26</td>\n",
       "      <td>NaN</td>\n",
       "      <td>2023-11-07</td>\n",
       "      <td>Allenhurst Borough</td>\n",
       "      <td>0</td>\n",
       "      <td>1</td>\n",
       "      <td>6</td>\n",
       "      <td>11</td>\n",
       "    </tr>\n",
       "    <tr>\n",
       "      <th>...</th>\n",
       "      <td>...</td>\n",
       "      <td>...</td>\n",
       "      <td>...</td>\n",
       "      <td>...</td>\n",
       "      <td>...</td>\n",
       "      <td>...</td>\n",
       "      <td>...</td>\n",
       "      <td>...</td>\n",
       "      <td>...</td>\n",
       "      <td>...</td>\n",
       "      <td>...</td>\n",
       "      <td>...</td>\n",
       "      <td>...</td>\n",
       "      <td>...</td>\n",
       "      <td>...</td>\n",
       "      <td>...</td>\n",
       "      <td>...</td>\n",
       "      <td>...</td>\n",
       "      <td>...</td>\n",
       "      <td>...</td>\n",
       "      <td>...</td>\n",
       "    </tr>\n",
       "    <tr>\n",
       "      <th>57728</th>\n",
       "      <td>F0927152184</td>\n",
       "      <td>WINIK</td>\n",
       "      <td>WENDY</td>\n",
       "      <td>T</td>\n",
       "      <td>NaN</td>\n",
       "      <td>DEM</td>\n",
       "      <td>AFE</td>\n",
       "      <td>4</td>\n",
       "      <td>Muncy Dr</td>\n",
       "      <td>NaN</td>\n",
       "      <td>...</td>\n",
       "      <td>2019-12-22</td>\n",
       "      <td>NaN</td>\n",
       "      <td>2023-09-26</td>\n",
       "      <td>NaN</td>\n",
       "      <td>2023-11-07</td>\n",
       "      <td>West Long Branch Borough</td>\n",
       "      <td>0</td>\n",
       "      <td>6</td>\n",
       "      <td>6</td>\n",
       "      <td>13</td>\n",
       "    </tr>\n",
       "    <tr>\n",
       "      <th>57729</th>\n",
       "      <td>D3260553619</td>\n",
       "      <td>WINIK</td>\n",
       "      <td>ZACHARY</td>\n",
       "      <td>O</td>\n",
       "      <td>NaN</td>\n",
       "      <td>DEM</td>\n",
       "      <td>AFE</td>\n",
       "      <td>4</td>\n",
       "      <td>Muncy Dr</td>\n",
       "      <td>NaN</td>\n",
       "      <td>...</td>\n",
       "      <td>2019-12-22</td>\n",
       "      <td>NaN</td>\n",
       "      <td>2023-09-26</td>\n",
       "      <td>NaN</td>\n",
       "      <td>2023-11-07</td>\n",
       "      <td>West Long Branch Borough</td>\n",
       "      <td>0</td>\n",
       "      <td>6</td>\n",
       "      <td>6</td>\n",
       "      <td>13</td>\n",
       "    </tr>\n",
       "    <tr>\n",
       "      <th>57730</th>\n",
       "      <td>E4864552175</td>\n",
       "      <td>YOUNG</td>\n",
       "      <td>JOAN</td>\n",
       "      <td>E</td>\n",
       "      <td>NaN</td>\n",
       "      <td>REP</td>\n",
       "      <td>AFE</td>\n",
       "      <td>18</td>\n",
       "      <td>NOLAN DR</td>\n",
       "      <td>NaN</td>\n",
       "      <td>...</td>\n",
       "      <td>2020-02-25</td>\n",
       "      <td>NaN</td>\n",
       "      <td>2023-09-26</td>\n",
       "      <td>NaN</td>\n",
       "      <td>2023-11-07</td>\n",
       "      <td>West Long Branch Borough</td>\n",
       "      <td>0</td>\n",
       "      <td>6</td>\n",
       "      <td>6</td>\n",
       "      <td>13</td>\n",
       "    </tr>\n",
       "    <tr>\n",
       "      <th>57731</th>\n",
       "      <td>I0775552251</td>\n",
       "      <td>TUCCI</td>\n",
       "      <td>CARRIE</td>\n",
       "      <td>R</td>\n",
       "      <td>NaN</td>\n",
       "      <td>REP</td>\n",
       "      <td>AFE</td>\n",
       "      <td>NaN</td>\n",
       "      <td>NaN</td>\n",
       "      <td>NaN</td>\n",
       "      <td>...</td>\n",
       "      <td>2019-12-22</td>\n",
       "      <td>NaN</td>\n",
       "      <td>2023-09-26</td>\n",
       "      <td>NaN</td>\n",
       "      <td>2023-11-07</td>\n",
       "      <td>West Long Branch Borough</td>\n",
       "      <td>0</td>\n",
       "      <td>6</td>\n",
       "      <td>6</td>\n",
       "      <td>13</td>\n",
       "    </tr>\n",
       "    <tr>\n",
       "      <th>57732</th>\n",
       "      <td>E1682952164</td>\n",
       "      <td>TUCCI</td>\n",
       "      <td>JONATHAN</td>\n",
       "      <td>R</td>\n",
       "      <td>NaN</td>\n",
       "      <td>REP</td>\n",
       "      <td>AFE</td>\n",
       "      <td>NaN</td>\n",
       "      <td>NaN</td>\n",
       "      <td>NaN</td>\n",
       "      <td>...</td>\n",
       "      <td>2019-12-22</td>\n",
       "      <td>NaN</td>\n",
       "      <td>2023-09-26</td>\n",
       "      <td>NaN</td>\n",
       "      <td>2023-11-07</td>\n",
       "      <td>West Long Branch Borough</td>\n",
       "      <td>0</td>\n",
       "      <td>6</td>\n",
       "      <td>6</td>\n",
       "      <td>13</td>\n",
       "    </tr>\n",
       "  </tbody>\n",
       "</table>\n",
       "<p>57733 rows × 33 columns</p>\n",
       "</div>"
      ],
      "text/plain": [
       "          voter_id last_name first_name middle_name suffix party  \\\n",
       "0      E2032252165     ADJMI     FRIEDA      OLLINS    NaN   REP   \n",
       "1      P2605352426    ANTEBI      ISAAC         NaN    NaN   REP   \n",
       "2      H4978752243    BEEGLE      DAVID         NaN    NaN   REP   \n",
       "3      I0943252252    BRIODY    MICHAEL           J    NaN   UNA   \n",
       "4      F6121852202     CAPIK    WILLIAM           L    NaN   DEM   \n",
       "...            ...       ...        ...         ...    ...   ...   \n",
       "57728  F0927152184     WINIK      WENDY           T    NaN   DEM   \n",
       "57729  D3260553619     WINIK    ZACHARY           O    NaN   DEM   \n",
       "57730  E4864552175     YOUNG       JOAN           E    NaN   REP   \n",
       "57731  I0775552251     TUCCI     CARRIE           R    NaN   REP   \n",
       "57732  E1682952164     TUCCI   JONATHAN           R    NaN   REP   \n",
       "\n",
       "      ballot_req_type street_no street_name apt_unit  ...  \\\n",
       "0                 SNG       120   Spier Ave      NaN  ...   \n",
       "1                 AFE       102     LAKE DR      NaN  ...   \n",
       "2                 AFE       212   Cedar Ave      NaN  ...   \n",
       "3                 AFE       311     Hume St      # 3  ...   \n",
       "4                 AFE       307     HUME ST      NaN  ...   \n",
       "...               ...       ...         ...      ...  ...   \n",
       "57728             AFE         4    Muncy Dr      NaN  ...   \n",
       "57729             AFE         4    Muncy Dr      NaN  ...   \n",
       "57730             AFE        18    NOLAN DR      NaN  ...   \n",
       "57731             AFE       NaN         NaN      NaN  ...   \n",
       "57732             AFE       NaN         NaN      NaN  ...   \n",
       "\n",
       "      ballot_req_rcvd_date ballot_received_date ballot_mailed_date  \\\n",
       "0               2023-09-20                  NaN         2023-09-26   \n",
       "1               2020-05-13                  NaN         2023-09-26   \n",
       "2               2019-12-22                  NaN         2023-09-26   \n",
       "3               2019-12-22                  NaN         2023-09-26   \n",
       "4               2021-09-09                  NaN         2023-09-26   \n",
       "...                    ...                  ...                ...   \n",
       "57728           2019-12-22                  NaN         2023-09-26   \n",
       "57729           2019-12-22                  NaN         2023-09-26   \n",
       "57730           2020-02-25                  NaN         2023-09-26   \n",
       "57731           2019-12-22                  NaN         2023-09-26   \n",
       "57732           2019-12-22                  NaN         2023-09-26   \n",
       "\n",
       "      ballot_counted_status    election              municipality ward  \\\n",
       "0                       NaN  2023-11-07        Allenhurst Borough    0   \n",
       "1                       NaN  2023-11-07        Allenhurst Borough    0   \n",
       "2                       NaN  2023-11-07        Allenhurst Borough    0   \n",
       "3                       NaN  2023-11-07        Allenhurst Borough    0   \n",
       "4                       NaN  2023-11-07        Allenhurst Borough    0   \n",
       "...                     ...         ...                       ...  ...   \n",
       "57728                   NaN  2023-11-07  West Long Branch Borough    0   \n",
       "57729                   NaN  2023-11-07  West Long Branch Borough    0   \n",
       "57730                   NaN  2023-11-07  West Long Branch Borough    0   \n",
       "57731                   NaN  2023-11-07  West Long Branch Borough    0   \n",
       "57732                   NaN  2023-11-07  West Long Branch Borough    0   \n",
       "\n",
       "      district congressional_dist legislative_dist  \n",
       "0            1                  6               11  \n",
       "1            1                  6               11  \n",
       "2            1                  6               11  \n",
       "3            1                  6               11  \n",
       "4            1                  6               11  \n",
       "...        ...                ...              ...  \n",
       "57728        6                  6               13  \n",
       "57729        6                  6               13  \n",
       "57730        6                  6               13  \n",
       "57731        6                  6               13  \n",
       "57732        6                  6               13  \n",
       "\n",
       "[57733 rows x 33 columns]"
      ]
     },
     "execution_count": 3,
     "metadata": {},
     "output_type": "execute_result"
    }
   ],
   "source": [
    "df"
   ]
  },
  {
   "cell_type": "code",
   "execution_count": 4,
   "id": "b546245f-4e82-4319-b71b-8fb14fd62baa",
   "metadata": {},
   "outputs": [
    {
     "data": {
      "text/plain": [
       "count     57733\n",
       "unique       10\n",
       "top         DEM\n",
       "freq      29081\n",
       "Name: party, dtype: object"
      ]
     },
     "execution_count": 4,
     "metadata": {},
     "output_type": "execute_result"
    }
   ],
   "source": [
    "df['party'].describe()"
   ]
  },
  {
   "cell_type": "code",
   "execution_count": 5,
   "id": "7b16c519-8f62-43a6-94e0-058dc88085dc",
   "metadata": {},
   "outputs": [
    {
     "data": {
      "text/plain": [
       "10"
      ]
     },
     "execution_count": 5,
     "metadata": {},
     "output_type": "execute_result"
    }
   ],
   "source": [
    "df['party'].nunique()"
   ]
  },
  {
   "cell_type": "code",
   "execution_count": 6,
   "id": "2de1d8ab-a42f-4296-a595-701def375111",
   "metadata": {},
   "outputs": [
    {
     "data": {
      "text/plain": [
       "array(['REP', 'UNA', 'DEM', 'LIB', 'NAT', 'SSP', 'CON', 'GRE', 'CNV',\n",
       "       'RFP'], dtype=object)"
      ]
     },
     "execution_count": 6,
     "metadata": {},
     "output_type": "execute_result"
    }
   ],
   "source": [
    "df['party'].unique()"
   ]
  },
  {
   "cell_type": "code",
   "execution_count": 7,
   "id": "2869ed18-9eb0-4969-9e58-ebc5d3bd29e2",
   "metadata": {},
   "outputs": [
    {
     "data": {
      "text/plain": [
       "party\n",
       "DEM    29081\n",
       "UNA    15703\n",
       "REP    12671\n",
       "LIB      104\n",
       "GRE       60\n",
       "CNV       44\n",
       "CON       33\n",
       "SSP       20\n",
       "NAT       13\n",
       "RFP        4\n",
       "Name: count, dtype: int64"
      ]
     },
     "execution_count": 7,
     "metadata": {},
     "output_type": "execute_result"
    }
   ],
   "source": [
    "df['party'].value_counts()"
   ]
  },
  {
   "cell_type": "code",
   "execution_count": 10,
   "id": "cdfc00ea-83ff-49aa-9cb6-051f75cea868",
   "metadata": {},
   "outputs": [
    {
     "data": {
      "application/vnd.plotly.v1+json": {
       "config": {
        "plotlyServerURL": "https://plot.ly"
       },
       "data": [
        {
         "domain": {
          "x": [
           0,
           1
          ],
          "y": [
           0,
           1
          ]
         },
         "hovertemplate": "label=%{label}<br>value=%{value}<extra></extra>",
         "labels": [
          "DEM",
          "UNA",
          "REP",
          "LIB",
          "GRE",
          "CNV",
          "CON",
          "SSP",
          "NAT",
          "RFP"
         ],
         "legendgroup": "",
         "name": "",
         "showlegend": true,
         "type": "pie",
         "values": [
          29081,
          15703,
          12671,
          104,
          60,
          44,
          33,
          20,
          13,
          4
         ]
        }
       ],
       "layout": {
        "height": 1000,
        "legend": {
         "tracegroupgap": 0
        },
        "template": {
         "data": {
          "bar": [
           {
            "error_x": {
             "color": "#f2f5fa"
            },
            "error_y": {
             "color": "#f2f5fa"
            },
            "marker": {
             "line": {
              "color": "rgb(17,17,17)",
              "width": 0.5
             },
             "pattern": {
              "fillmode": "overlay",
              "size": 10,
              "solidity": 0.2
             }
            },
            "type": "bar"
           }
          ],
          "barpolar": [
           {
            "marker": {
             "line": {
              "color": "rgb(17,17,17)",
              "width": 0.5
             },
             "pattern": {
              "fillmode": "overlay",
              "size": 10,
              "solidity": 0.2
             }
            },
            "type": "barpolar"
           }
          ],
          "carpet": [
           {
            "aaxis": {
             "endlinecolor": "#A2B1C6",
             "gridcolor": "#506784",
             "linecolor": "#506784",
             "minorgridcolor": "#506784",
             "startlinecolor": "#A2B1C6"
            },
            "baxis": {
             "endlinecolor": "#A2B1C6",
             "gridcolor": "#506784",
             "linecolor": "#506784",
             "minorgridcolor": "#506784",
             "startlinecolor": "#A2B1C6"
            },
            "type": "carpet"
           }
          ],
          "choropleth": [
           {
            "colorbar": {
             "outlinewidth": 0,
             "ticks": ""
            },
            "type": "choropleth"
           }
          ],
          "contour": [
           {
            "colorbar": {
             "outlinewidth": 0,
             "ticks": ""
            },
            "colorscale": [
             [
              0,
              "#0d0887"
             ],
             [
              0.1111111111111111,
              "#46039f"
             ],
             [
              0.2222222222222222,
              "#7201a8"
             ],
             [
              0.3333333333333333,
              "#9c179e"
             ],
             [
              0.4444444444444444,
              "#bd3786"
             ],
             [
              0.5555555555555556,
              "#d8576b"
             ],
             [
              0.6666666666666666,
              "#ed7953"
             ],
             [
              0.7777777777777778,
              "#fb9f3a"
             ],
             [
              0.8888888888888888,
              "#fdca26"
             ],
             [
              1,
              "#f0f921"
             ]
            ],
            "type": "contour"
           }
          ],
          "contourcarpet": [
           {
            "colorbar": {
             "outlinewidth": 0,
             "ticks": ""
            },
            "type": "contourcarpet"
           }
          ],
          "heatmap": [
           {
            "colorbar": {
             "outlinewidth": 0,
             "ticks": ""
            },
            "colorscale": [
             [
              0,
              "#0d0887"
             ],
             [
              0.1111111111111111,
              "#46039f"
             ],
             [
              0.2222222222222222,
              "#7201a8"
             ],
             [
              0.3333333333333333,
              "#9c179e"
             ],
             [
              0.4444444444444444,
              "#bd3786"
             ],
             [
              0.5555555555555556,
              "#d8576b"
             ],
             [
              0.6666666666666666,
              "#ed7953"
             ],
             [
              0.7777777777777778,
              "#fb9f3a"
             ],
             [
              0.8888888888888888,
              "#fdca26"
             ],
             [
              1,
              "#f0f921"
             ]
            ],
            "type": "heatmap"
           }
          ],
          "heatmapgl": [
           {
            "colorbar": {
             "outlinewidth": 0,
             "ticks": ""
            },
            "colorscale": [
             [
              0,
              "#0d0887"
             ],
             [
              0.1111111111111111,
              "#46039f"
             ],
             [
              0.2222222222222222,
              "#7201a8"
             ],
             [
              0.3333333333333333,
              "#9c179e"
             ],
             [
              0.4444444444444444,
              "#bd3786"
             ],
             [
              0.5555555555555556,
              "#d8576b"
             ],
             [
              0.6666666666666666,
              "#ed7953"
             ],
             [
              0.7777777777777778,
              "#fb9f3a"
             ],
             [
              0.8888888888888888,
              "#fdca26"
             ],
             [
              1,
              "#f0f921"
             ]
            ],
            "type": "heatmapgl"
           }
          ],
          "histogram": [
           {
            "marker": {
             "pattern": {
              "fillmode": "overlay",
              "size": 10,
              "solidity": 0.2
             }
            },
            "type": "histogram"
           }
          ],
          "histogram2d": [
           {
            "colorbar": {
             "outlinewidth": 0,
             "ticks": ""
            },
            "colorscale": [
             [
              0,
              "#0d0887"
             ],
             [
              0.1111111111111111,
              "#46039f"
             ],
             [
              0.2222222222222222,
              "#7201a8"
             ],
             [
              0.3333333333333333,
              "#9c179e"
             ],
             [
              0.4444444444444444,
              "#bd3786"
             ],
             [
              0.5555555555555556,
              "#d8576b"
             ],
             [
              0.6666666666666666,
              "#ed7953"
             ],
             [
              0.7777777777777778,
              "#fb9f3a"
             ],
             [
              0.8888888888888888,
              "#fdca26"
             ],
             [
              1,
              "#f0f921"
             ]
            ],
            "type": "histogram2d"
           }
          ],
          "histogram2dcontour": [
           {
            "colorbar": {
             "outlinewidth": 0,
             "ticks": ""
            },
            "colorscale": [
             [
              0,
              "#0d0887"
             ],
             [
              0.1111111111111111,
              "#46039f"
             ],
             [
              0.2222222222222222,
              "#7201a8"
             ],
             [
              0.3333333333333333,
              "#9c179e"
             ],
             [
              0.4444444444444444,
              "#bd3786"
             ],
             [
              0.5555555555555556,
              "#d8576b"
             ],
             [
              0.6666666666666666,
              "#ed7953"
             ],
             [
              0.7777777777777778,
              "#fb9f3a"
             ],
             [
              0.8888888888888888,
              "#fdca26"
             ],
             [
              1,
              "#f0f921"
             ]
            ],
            "type": "histogram2dcontour"
           }
          ],
          "mesh3d": [
           {
            "colorbar": {
             "outlinewidth": 0,
             "ticks": ""
            },
            "type": "mesh3d"
           }
          ],
          "parcoords": [
           {
            "line": {
             "colorbar": {
              "outlinewidth": 0,
              "ticks": ""
             }
            },
            "type": "parcoords"
           }
          ],
          "pie": [
           {
            "automargin": true,
            "type": "pie"
           }
          ],
          "scatter": [
           {
            "marker": {
             "line": {
              "color": "#283442"
             }
            },
            "type": "scatter"
           }
          ],
          "scatter3d": [
           {
            "line": {
             "colorbar": {
              "outlinewidth": 0,
              "ticks": ""
             }
            },
            "marker": {
             "colorbar": {
              "outlinewidth": 0,
              "ticks": ""
             }
            },
            "type": "scatter3d"
           }
          ],
          "scattercarpet": [
           {
            "marker": {
             "colorbar": {
              "outlinewidth": 0,
              "ticks": ""
             }
            },
            "type": "scattercarpet"
           }
          ],
          "scattergeo": [
           {
            "marker": {
             "colorbar": {
              "outlinewidth": 0,
              "ticks": ""
             }
            },
            "type": "scattergeo"
           }
          ],
          "scattergl": [
           {
            "marker": {
             "line": {
              "color": "#283442"
             }
            },
            "type": "scattergl"
           }
          ],
          "scattermapbox": [
           {
            "marker": {
             "colorbar": {
              "outlinewidth": 0,
              "ticks": ""
             }
            },
            "type": "scattermapbox"
           }
          ],
          "scatterpolar": [
           {
            "marker": {
             "colorbar": {
              "outlinewidth": 0,
              "ticks": ""
             }
            },
            "type": "scatterpolar"
           }
          ],
          "scatterpolargl": [
           {
            "marker": {
             "colorbar": {
              "outlinewidth": 0,
              "ticks": ""
             }
            },
            "type": "scatterpolargl"
           }
          ],
          "scatterternary": [
           {
            "marker": {
             "colorbar": {
              "outlinewidth": 0,
              "ticks": ""
             }
            },
            "type": "scatterternary"
           }
          ],
          "surface": [
           {
            "colorbar": {
             "outlinewidth": 0,
             "ticks": ""
            },
            "colorscale": [
             [
              0,
              "#0d0887"
             ],
             [
              0.1111111111111111,
              "#46039f"
             ],
             [
              0.2222222222222222,
              "#7201a8"
             ],
             [
              0.3333333333333333,
              "#9c179e"
             ],
             [
              0.4444444444444444,
              "#bd3786"
             ],
             [
              0.5555555555555556,
              "#d8576b"
             ],
             [
              0.6666666666666666,
              "#ed7953"
             ],
             [
              0.7777777777777778,
              "#fb9f3a"
             ],
             [
              0.8888888888888888,
              "#fdca26"
             ],
             [
              1,
              "#f0f921"
             ]
            ],
            "type": "surface"
           }
          ],
          "table": [
           {
            "cells": {
             "fill": {
              "color": "#506784"
             },
             "line": {
              "color": "rgb(17,17,17)"
             }
            },
            "header": {
             "fill": {
              "color": "#2a3f5f"
             },
             "line": {
              "color": "rgb(17,17,17)"
             }
            },
            "type": "table"
           }
          ]
         },
         "layout": {
          "annotationdefaults": {
           "arrowcolor": "#f2f5fa",
           "arrowhead": 0,
           "arrowwidth": 1
          },
          "autotypenumbers": "strict",
          "coloraxis": {
           "colorbar": {
            "outlinewidth": 0,
            "ticks": ""
           }
          },
          "colorscale": {
           "diverging": [
            [
             0,
             "#8e0152"
            ],
            [
             0.1,
             "#c51b7d"
            ],
            [
             0.2,
             "#de77ae"
            ],
            [
             0.3,
             "#f1b6da"
            ],
            [
             0.4,
             "#fde0ef"
            ],
            [
             0.5,
             "#f7f7f7"
            ],
            [
             0.6,
             "#e6f5d0"
            ],
            [
             0.7,
             "#b8e186"
            ],
            [
             0.8,
             "#7fbc41"
            ],
            [
             0.9,
             "#4d9221"
            ],
            [
             1,
             "#276419"
            ]
           ],
           "sequential": [
            [
             0,
             "#0d0887"
            ],
            [
             0.1111111111111111,
             "#46039f"
            ],
            [
             0.2222222222222222,
             "#7201a8"
            ],
            [
             0.3333333333333333,
             "#9c179e"
            ],
            [
             0.4444444444444444,
             "#bd3786"
            ],
            [
             0.5555555555555556,
             "#d8576b"
            ],
            [
             0.6666666666666666,
             "#ed7953"
            ],
            [
             0.7777777777777778,
             "#fb9f3a"
            ],
            [
             0.8888888888888888,
             "#fdca26"
            ],
            [
             1,
             "#f0f921"
            ]
           ],
           "sequentialminus": [
            [
             0,
             "#0d0887"
            ],
            [
             0.1111111111111111,
             "#46039f"
            ],
            [
             0.2222222222222222,
             "#7201a8"
            ],
            [
             0.3333333333333333,
             "#9c179e"
            ],
            [
             0.4444444444444444,
             "#bd3786"
            ],
            [
             0.5555555555555556,
             "#d8576b"
            ],
            [
             0.6666666666666666,
             "#ed7953"
            ],
            [
             0.7777777777777778,
             "#fb9f3a"
            ],
            [
             0.8888888888888888,
             "#fdca26"
            ],
            [
             1,
             "#f0f921"
            ]
           ]
          },
          "colorway": [
           "#636efa",
           "#EF553B",
           "#00cc96",
           "#ab63fa",
           "#FFA15A",
           "#19d3f3",
           "#FF6692",
           "#B6E880",
           "#FF97FF",
           "#FECB52"
          ],
          "font": {
           "color": "#f2f5fa"
          },
          "geo": {
           "bgcolor": "rgb(17,17,17)",
           "lakecolor": "rgb(17,17,17)",
           "landcolor": "rgb(17,17,17)",
           "showlakes": true,
           "showland": true,
           "subunitcolor": "#506784"
          },
          "hoverlabel": {
           "align": "left"
          },
          "hovermode": "closest",
          "mapbox": {
           "style": "dark"
          },
          "paper_bgcolor": "rgb(17,17,17)",
          "plot_bgcolor": "rgb(17,17,17)",
          "polar": {
           "angularaxis": {
            "gridcolor": "#506784",
            "linecolor": "#506784",
            "ticks": ""
           },
           "bgcolor": "rgb(17,17,17)",
           "radialaxis": {
            "gridcolor": "#506784",
            "linecolor": "#506784",
            "ticks": ""
           }
          },
          "scene": {
           "xaxis": {
            "backgroundcolor": "rgb(17,17,17)",
            "gridcolor": "#506784",
            "gridwidth": 2,
            "linecolor": "#506784",
            "showbackground": true,
            "ticks": "",
            "zerolinecolor": "#C8D4E3"
           },
           "yaxis": {
            "backgroundcolor": "rgb(17,17,17)",
            "gridcolor": "#506784",
            "gridwidth": 2,
            "linecolor": "#506784",
            "showbackground": true,
            "ticks": "",
            "zerolinecolor": "#C8D4E3"
           },
           "zaxis": {
            "backgroundcolor": "rgb(17,17,17)",
            "gridcolor": "#506784",
            "gridwidth": 2,
            "linecolor": "#506784",
            "showbackground": true,
            "ticks": "",
            "zerolinecolor": "#C8D4E3"
           }
          },
          "shapedefaults": {
           "line": {
            "color": "#f2f5fa"
           }
          },
          "sliderdefaults": {
           "bgcolor": "#C8D4E3",
           "bordercolor": "rgb(17,17,17)",
           "borderwidth": 1,
           "tickwidth": 0
          },
          "ternary": {
           "aaxis": {
            "gridcolor": "#506784",
            "linecolor": "#506784",
            "ticks": ""
           },
           "baxis": {
            "gridcolor": "#506784",
            "linecolor": "#506784",
            "ticks": ""
           },
           "bgcolor": "rgb(17,17,17)",
           "caxis": {
            "gridcolor": "#506784",
            "linecolor": "#506784",
            "ticks": ""
           }
          },
          "title": {
           "x": 0.05
          },
          "updatemenudefaults": {
           "bgcolor": "#506784",
           "borderwidth": 0
          },
          "xaxis": {
           "automargin": true,
           "gridcolor": "#283442",
           "linecolor": "#506784",
           "ticks": "",
           "title": {
            "standoff": 15
           },
           "zerolinecolor": "#283442",
           "zerolinewidth": 2
          },
          "yaxis": {
           "automargin": true,
           "gridcolor": "#283442",
           "linecolor": "#506784",
           "ticks": "",
           "title": {
            "standoff": 15
           },
           "zerolinecolor": "#283442",
           "zerolinewidth": 2
          }
         }
        },
        "title": {
         "text": "Monmouth County Vote-by-mail Voters by Party Affiliation"
        },
        "width": 1000
       }
      }
     },
     "metadata": {},
     "output_type": "display_data"
    }
   ],
   "source": [
    "names = df['party'].value_counts().index\n",
    "values = df['party'].value_counts().values\n",
    "\n",
    "fig = px.pie(values=values, names=names,\n",
    "             title=\"Monmouth County Vote-by-mail Voters by Party Affiliation\", width=1000, height=1000, template=\"plotly_dark\")\n",
    "\n",
    "# html file\n",
    "pt.offline.plot(fig, filename='monmouth/index.html',\n",
    "                show_link=True, output_type='file', include_plotlyjs='cdn', auto_open=False)\n",
    "\n",
    "# png file\n",
    "fig.write_image(file=\"monmouth/votebymail-monmouth.png\",\n",
    "                height=1000, width=1000, engine='kaleido')\n",
    "\n",
    "fig.show()"
   ]
  },
  {
   "cell_type": "code",
   "execution_count": null,
   "id": "52a105db-f651-4b4c-99aa-9fb2bf60cedd",
   "metadata": {},
   "outputs": [],
   "source": []
  }
 ],
 "metadata": {
  "kernelspec": {
   "display_name": "Python 3 (ipykernel)",
   "language": "python",
   "name": "python3"
  },
  "language_info": {
   "codemirror_mode": {
    "name": "ipython",
    "version": 3
   },
   "file_extension": ".py",
   "mimetype": "text/x-python",
   "name": "python",
   "nbconvert_exporter": "python",
   "pygments_lexer": "ipython3",
   "version": "3.12.0"
  }
 },
 "nbformat": 4,
 "nbformat_minor": 5
}
